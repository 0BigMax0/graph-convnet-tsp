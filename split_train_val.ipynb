{
 "cells": [
  {
   "cell_type": "markdown",
   "metadata": {},
   "source": [
    "# Split 1M TSPs file into Training and Validation sets\n",
    "TSP50 and TSP100 data files do not have separate validation sets. \n",
    "For consistency, this script uses the first 10K samples in the 1M file as the validation set and the remaining 999K as the training set."
   ]
  },
  {
   "cell_type": "code",
   "execution_count": null,
   "metadata": {},
   "outputs": [],
   "source": [
    "# Define task and validation set size\n",
    "num_nodes = \"50\"\n",
    "val_size = 10000"
   ]
  },
  {
   "cell_type": "code",
   "execution_count": null,
   "metadata": {},
   "outputs": [],
   "source": [
    "filepath = \"data/tsp{}_concorde.txt\".format(num_nodes)\n",
    "filedata = open(filepath, \"r\").readlines()\n",
    "print(\"Total: \", len(filedata))\n",
    "val_data = filedata[:val_size]\n",
    "print(\"Validation: \", len(val_data))\n",
    "train_data = filedata[val_size:]\n",
    "print(\"Training: \", len(train_data))"
   ]
  },
  {
   "cell_type": "code",
   "execution_count": null,
   "metadata": {},
   "outputs": [],
   "source": [
    "# Create separate validation data file\n",
    "with open(\"data/tsp{}_val_concorde.txt\".format(num_nodes), \"w\", encoding=\"utf-8\") as f:\n",
    "    for line in val_data:\n",
    "        f.write(line)"
   ]
  },
  {
   "cell_type": "code",
   "execution_count": null,
   "metadata": {},
   "outputs": [],
   "source": [
    "# Create separate train data file\n",
    "with open(\"data/tsp{}_train_concorde.txt\".format(num_nodes), \"w\", encoding=\"utf-8\") as f:\n",
    "    for line in train_data:\n",
    "        f.write(line)"
   ]
  }
 ],
 "metadata": {
  "kernelspec": {
   "display_name": "Python 3",
   "language": "python",
   "name": "python3"
  },
  "language_info": {
   "codemirror_mode": {
    "name": "ipython",
    "version": 3
   },
   "file_extension": ".py",
   "mimetype": "text/x-python",
   "name": "python",
   "nbconvert_exporter": "python",
   "pygments_lexer": "ipython3",
   "version": "3.6.7"
  }
 },
 "nbformat": 4,
 "nbformat_minor": 2
}
